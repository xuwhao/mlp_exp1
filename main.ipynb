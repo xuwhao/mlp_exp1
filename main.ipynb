{
 "cells": [
  {
   "cell_type": "code",
   "execution_count": 1,
   "metadata": {
    "collapsed": true,
    "pycharm": {
     "is_executing": false
    }
   },
   "outputs": [],
   "source": [
    "import torch\n",
    "import torch.nn as nn\n",
    "import torchvision\n",
    "import torchvision.transforms as transforms\n",
    "from NeutralNet import NeuralNet\n",
    "from MyModule import MyModule\n",
    "import os\n",
    "\n",
    "# 判定GPU是否存在\n",
    "\n",
    "device = torch.device('cuda' if torch.cuda.is_available() else 'cpu')\n",
    "\n",
    "# 定义超参数\n",
    "input_size = 784\n",
    "hidden_size = 500\n",
    "num_classes = 10\n",
    "num_epochs = 5\n",
    "batch_size = 100\n",
    "learning_rate = 0.001\n",
    "\n",
    "# 数据集dir\n",
    "data_dir = 'resources/dataset'"
   ]
  },
  {
   "cell_type": "code",
   "execution_count": 2,
   "outputs": [
    {
     "name": "stdout",
     "text": [
      "download dataset successfully!\n"
     ],
     "output_type": "stream"
    }
   ],
   "source": [
    "# 载入手写体数据 如果不存在则下载 注意科学上网，否则下载很慢 \n",
    "train_dataset = torchvision.datasets.MNIST(root=data_dir,\n",
    "                                           train=True,\n",
    "                                           transform=transforms.ToTensor(),\n",
    "                                           download=True)\n",
    "\n",
    "test_dataset = torchvision.datasets.MNIST(root=data_dir,\n",
    "                                          train=False,\n",
    "                                          transform=transforms.ToTensor())\n",
    "print(\"download dataset successfully!\")"
   ],
   "metadata": {
    "collapsed": false,
    "pycharm": {
     "name": "#%%\n",
     "is_executing": false
    }
   }
  },
  {
   "cell_type": "code",
   "execution_count": 3,
   "outputs": [
    {
     "name": "stdout",
     "text": [
      "True\nbuild model successfully!\n"
     ],
     "output_type": "stream"
    }
   ],
   "source": [
    "# 构建数据管道\n",
    "train_loader = torch.utils.data.DataLoader(dataset=train_dataset,\n",
    "                                           batch_size=batch_size,\n",
    "                                           shuffle=True)\n",
    "\n",
    "test_loader = torch.utils.data.DataLoader(dataset=test_dataset,\n",
    "                                          batch_size=batch_size,\n",
    "                                          shuffle=False)\n",
    "\n",
    "# 定义模型\n",
    "# model = NeuralNet(input_size, hidden_size, num_classes).to(device)\n",
    "model = MyModule(input_size, hidden_size, num_classes).to(device)\n",
    "# 损失函数和优化算法\n",
    "criterion = nn.CrossEntropyLoss()\n",
    "optimizer = torch.optim.Adam(model.parameters(), lr=learning_rate)\n",
    "# , weight_decay=1e-8\n",
    "# 初始化权重和偏置\n",
    "# for name,param in model.named_parameters():\n",
    "#         if 'weight' in name:\n",
    "#             nn.init.kaiming_uniform_(param, nonlinearity='relu')\n",
    "#         if 'bias' in name:\n",
    "#             nn.init.zeros_(param)\n",
    "\n",
    "print(next(model.parameters()).is_cuda)\n",
    "print(\"build model successfully!\")"
   ],
   "metadata": {
    "collapsed": false,
    "pycharm": {
     "name": "#%%\n",
     "is_executing": false
    }
   }
  },
  {
   "cell_type": "code",
   "execution_count": 4,
   "outputs": [
    {
     "name": "stdout",
     "text": [
      "Epoch [1/5], Step [100/600], Loss: 0.3658\n",
      "Epoch [1/5], Step [200/600], Loss: 0.2340\n",
      "Epoch [1/5], Step [300/600], Loss: 0.2076\n",
      "Epoch [1/5], Step [400/600], Loss: 0.1719\n",
      "Epoch [1/5], Step [500/600], Loss: 0.2417\n",
      "Epoch [1/5], Step [600/600], Loss: 0.1412\n",
      "Epoch [2/5], Step [100/600], Loss: 0.0590\n",
      "Epoch [2/5], Step [200/600], Loss: 0.0809\n",
      "Epoch [2/5], Step [300/600], Loss: 0.0765\n",
      "Epoch [2/5], Step [400/600], Loss: 0.1220\n",
      "Epoch [2/5], Step [500/600], Loss: 0.1481\n",
      "Epoch [2/5], Step [600/600], Loss: 0.1074\n",
      "Epoch [3/5], Step [100/600], Loss: 0.0395\n",
      "Epoch [3/5], Step [200/600], Loss: 0.0403\n",
      "Epoch [3/5], Step [300/600], Loss: 0.0436\n",
      "Epoch [3/5], Step [400/600], Loss: 0.0134\n",
      "Epoch [3/5], Step [500/600], Loss: 0.0425\n",
      "Epoch [3/5], Step [600/600], Loss: 0.0628\n",
      "Epoch [4/5], Step [100/600], Loss: 0.0267\n",
      "Epoch [4/5], Step [200/600], Loss: 0.0413\n",
      "Epoch [4/5], Step [300/600], Loss: 0.0243\n",
      "Epoch [4/5], Step [400/600], Loss: 0.0348\n",
      "Epoch [4/5], Step [500/600], Loss: 0.0445\n",
      "Epoch [4/5], Step [600/600], Loss: 0.0513\n",
      "Epoch [5/5], Step [100/600], Loss: 0.0255\n",
      "Epoch [5/5], Step [200/600], Loss: 0.0303\n",
      "Epoch [5/5], Step [300/600], Loss: 0.0199\n",
      "Epoch [5/5], Step [400/600], Loss: 0.0208\n",
      "Epoch [5/5], Step [500/600], Loss: 0.0120\n",
      "Epoch [5/5], Step [600/600], Loss: 0.0321\n"
     ],
     "output_type": "stream"
    }
   ],
   "source": [
    "# 训练模型\n",
    "total_step = len(train_loader)\n",
    "for epoch in range(num_epochs):\n",
    "    for i, (images, labels) in enumerate(train_loader):\n",
    "        # Move tensors to the configured device\n",
    "        images = images.reshape(-1, 28 * 28).to(device)\n",
    "        labels = labels.to(device)\n",
    "\n",
    "        # 前向传播和计算loss\n",
    "        outputs = model(images)\n",
    "        loss = criterion(outputs, labels)\n",
    "\n",
    "        # 后向传播和调整参数\n",
    "        optimizer.zero_grad()\n",
    "        loss.backward()\n",
    "        optimizer.step()\n",
    "        # 每100个batch打印一次数据\n",
    "        if (i + 1) % 100 == 0:\n",
    "            print('Epoch [{}/{}], Step [{}/{}], Loss: {:.4f}'\n",
    "                  .format(epoch + 1, num_epochs, i + 1, total_step, loss.item()))"
   ],
   "metadata": {
    "collapsed": false,
    "pycharm": {
     "name": "#%%\n",
     "is_executing": false
    }
   }
  },
  {
   "cell_type": "code",
   "execution_count": 5,
   "outputs": [
    {
     "name": "stdout",
     "text": [
      "Accuracy of the network on the 10000 test images: 98.11 %\n"
     ],
     "output_type": "stream"
    }
   ],
   "source": [
    "# 模型测试部分\n",
    "# 测试阶段不需要计算梯度，注意\n",
    "with torch.no_grad():\n",
    "    correct = 0\n",
    "    total = 0\n",
    "    for images, labels in test_loader:\n",
    "        images = images.reshape(-1, 28 * 28).to(device)\n",
    "        labels = labels.to(device)\n",
    "        outputs = model(images)\n",
    "        _, predicted = torch.max(outputs.data, 1)\n",
    "        # print(_, predicted)\n",
    "        total += labels.size(0)\n",
    "        correct += (predicted == labels).sum().item()\n",
    "\n",
    "    print('Accuracy of the network on the 10000 test images: {} %'.format(100 * correct / total))"
   ],
   "metadata": {
    "collapsed": false,
    "pycharm": {
     "name": "#%%\n",
     "is_executing": false
    }
   }
  },
  {
   "cell_type": "code",
   "execution_count": 6,
   "outputs": [
    {
     "name": "stdout",
     "text": [
      "True\n1\nGeForce GTX 1050 Ti\n0\n"
     ],
     "output_type": "stream"
    }
   ],
   "source": [
    "flag = torch.cuda.is_available()\n",
    "device_cnt = torch.cuda.device_count()\n",
    "device_name=torch.cuda.get_device_name(0)\n",
    "device_curr = torch.cuda.current_device()\n",
    "\n",
    "print(flag)\n",
    "print(device_cnt)\n",
    "print(device_name)\n",
    "print(device_curr)"
   ],
   "metadata": {
    "collapsed": false,
    "pycharm": {
     "name": "#%%\n",
     "is_executing": false
    }
   }
  }
 ],
 "metadata": {
  "kernelspec": {
   "name": "pycharm-f3a9061e",
   "language": "python",
   "display_name": "PyCharm (DeepLearning)"
  },
  "language_info": {
   "codemirror_mode": {
    "name": "ipython",
    "version": 2
   },
   "file_extension": ".py",
   "mimetype": "text/x-python",
   "name": "python",
   "nbconvert_exporter": "python",
   "pygments_lexer": "ipython2",
   "version": "2.7.6"
  },
  "pycharm": {
   "stem_cell": {
    "cell_type": "raw",
    "source": [],
    "metadata": {
     "collapsed": false
    }
   }
  }
 },
 "nbformat": 4,
 "nbformat_minor": 0
}